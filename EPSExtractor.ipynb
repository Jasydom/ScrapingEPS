{
 "cells": [
  {
   "cell_type": "code",
   "execution_count": 115,
   "metadata": {},
   "outputs": [],
   "source": [
    "import os\n",
    "import numpy as np\n",
    "import pandas as pd\n",
    "import requests\n",
    "from bs4 import BeautifulSoup\n",
    "import pandas as pd\n",
    "import numpy as np\n",
    "import re"
   ]
  },
  {
   "cell_type": "code",
   "execution_count": 116,
   "metadata": {},
   "outputs": [],
   "source": [
    "def list_filenames(directory):\n",
    "    \"\"\"\n",
    "    Lists all HTML filenames in the specified directory and stores them in a DataFrame.\n",
    "    \n",
    "    Args:\n",
    "        directory (str): The path to the directory containing the files.\n",
    "    \n",
    "    Returns:\n",
    "        pd.DataFrame: A DataFrame with two columns, 'filename' and 'EPS', where 'EPS' is initially empty.\n",
    "    \"\"\"\n",
    "    dt = pd.DataFrame(columns=['filename', 'EPS'])\n",
    "    index = 0\n",
    "    for filename in os.listdir(directory):\n",
    "        if filename.endswith('.html'):\n",
    "            dt.loc[index,'filename'] = filename\n",
    "            index += 1\n",
    "    return dt\n"
   ]
  },
  {
   "cell_type": "code",
   "execution_count": 117,
   "metadata": {},
   "outputs": [],
   "source": [
    "def add_training_folder(file_name):\n",
    "    \"\"\"\n",
    "    Adds the 'Training_Filings/' folder prefix to the given file name.\n",
    "\n",
    "    Args:\n",
    "        file_name (str): The name of the file (e.g., '0000004977-20-000054.html').\n",
    "    \n",
    "    Returns:\n",
    "        str: The new file path with 'Training_Filings/' prefixed.\n",
    "    \"\"\"\n",
    "\n",
    "    new_file_path = f\"Training_Filings/{file_name}\"\n",
    "    return new_file_path"
   ]
  },
  {
   "cell_type": "code",
   "execution_count": 118,
   "metadata": {},
   "outputs": [],
   "source": [
    "def convert_to_float(number):\n",
    "    \"\"\"\n",
    "    Converts a string representation of a number into a float.\n",
    "    Handles numbers with commas and negative numbers enclosed in parentheses.\n",
    "\n",
    "    Args:\n",
    "        number (str): The string representation of the number.\n",
    "    \n",
    "    Returns:\n",
    "        float: The converted float value, negative if enclosed in parentheses.\n",
    "    \"\"\"\n",
    "    number = number.replace(',', '')\n",
    "    if number.startswith('(') or number.endswith(')'):\n",
    "        return -float(number.strip('()'))\n",
    "    else:\n",
    "        return float(number)"
   ]
  },
  {
   "cell_type": "code",
   "execution_count": 119,
   "metadata": {},
   "outputs": [],
   "source": [
    "def read_html_file(file_path):\n",
    "    \"\"\"\n",
    "    Reads the contents of an HTML file from the specified file path.\n",
    "    \n",
    "    Args:\n",
    "        file_path (str): The path to the HTML file to be read.\n",
    "        \n",
    "    Returns:\n",
    "        str: The content of the HTML file as a string if the file exists.\n",
    "             Returns \"File Not Found\" if the file doesn't exist.\n",
    "    \"\"\"\n",
    "    if os.path.exists(file_path):\n",
    "        with open(file_path, 'r', encoding='utf-8') as file:\n",
    "            content = file.read()\n",
    "            return content\n",
    "    else:\n",
    "        return \"File Not Found\""
   ]
  },
  {
   "cell_type": "code",
   "execution_count": 120,
   "metadata": {},
   "outputs": [],
   "source": [
    "dt = list_filenames('Training_Filings')"
   ]
  },
  {
   "cell_type": "code",
   "execution_count": 121,
   "metadata": {},
   "outputs": [
    {
     "data": {
      "text/html": [
       "<div>\n",
       "<style scoped>\n",
       "    .dataframe tbody tr th:only-of-type {\n",
       "        vertical-align: middle;\n",
       "    }\n",
       "\n",
       "    .dataframe tbody tr th {\n",
       "        vertical-align: top;\n",
       "    }\n",
       "\n",
       "    .dataframe thead th {\n",
       "        text-align: right;\n",
       "    }\n",
       "</style>\n",
       "<table border=\"1\" class=\"dataframe\">\n",
       "  <thead>\n",
       "    <tr style=\"text-align: right;\">\n",
       "      <th></th>\n",
       "      <th>filename</th>\n",
       "      <th>EPS</th>\n",
       "    </tr>\n",
       "  </thead>\n",
       "  <tbody>\n",
       "    <tr>\n",
       "      <th>0</th>\n",
       "      <td>0000004977-20-000054.html</td>\n",
       "      <td>NaN</td>\n",
       "    </tr>\n",
       "    <tr>\n",
       "      <th>1</th>\n",
       "      <td>0000008947-20-000044.html</td>\n",
       "      <td>NaN</td>\n",
       "    </tr>\n",
       "    <tr>\n",
       "      <th>2</th>\n",
       "      <td>0000046080-20-000050.html</td>\n",
       "      <td>NaN</td>\n",
       "    </tr>\n",
       "    <tr>\n",
       "      <th>3</th>\n",
       "      <td>0000066570-20-000013.html</td>\n",
       "      <td>NaN</td>\n",
       "    </tr>\n",
       "    <tr>\n",
       "      <th>4</th>\n",
       "      <td>0000314808-20-000062.html</td>\n",
       "      <td>NaN</td>\n",
       "    </tr>\n",
       "  </tbody>\n",
       "</table>\n",
       "</div>"
      ],
      "text/plain": [
       "                    filename  EPS\n",
       "0  0000004977-20-000054.html  NaN\n",
       "1  0000008947-20-000044.html  NaN\n",
       "2  0000046080-20-000050.html  NaN\n",
       "3  0000066570-20-000013.html  NaN\n",
       "4  0000314808-20-000062.html  NaN"
      ]
     },
     "execution_count": 121,
     "metadata": {},
     "output_type": "execute_result"
    }
   ],
   "source": [
    "dt.head()"
   ]
  },
  {
   "cell_type": "code",
   "execution_count": 122,
   "metadata": {},
   "outputs": [],
   "source": [
    "file_path = ['Training_Filings/0001564590-20-019726.html','Training_Filings/0000066570-20-000013.html','Training_Filings/0000008947-20-000044.html','Training_Filings/0001564590-20-019431.html','Training_Filings/0001564590-20-019396.html']"
   ]
  },
  {
   "cell_type": "code",
   "execution_count": 123,
   "metadata": {},
   "outputs": [],
   "source": [
    "list_keywords = [r'Basic earnings \\(loss\\) per share.*?\\$\\s*(\\d+\\.\\d+)',r'Basic earnings per share.*?\\$\\s*(\\d+\\.\\d+)',r'\\(Loss\\) earnings per share.*?\\$\\s*(\\d+\\.\\d+)',r'Earnings \\(loss\\) per common share.*?\\$\\s*(\\d+\\.\\d+)',r'Earnings per share attributable to.*?\\$\\s*(\\d+\\.\\d+)',r'Diluted earnings per share.*?\\$\\s*(\\d+\\.\\d+)',r'Diluted earnings \\(loss\\) per share.*?\\$\\s*(\\d+\\.\\d+)']"
   ]
  },
  {
   "cell_type": "code",
   "execution_count": 124,
   "metadata": {},
   "outputs": [
    {
     "name": "stdout",
     "output_type": "stream",
     "text": [
      "The first number after 'Basic earnings \\(loss\\) per share.*?\\$\\s*(\\d+\\.\\d+)' and html 'Training_Filings/0001564590-20-019726.html' is: 0.08\n",
      "The first number after 'Earnings per share attributable to.*?\\$\\s*(\\d+\\.\\d+)' and html 'Training_Filings/0000066570-20-000013.html' is: 1.12\n",
      "The first number after 'Earnings \\(loss\\) per common share.*?\\$\\s*(\\d+\\.\\d+)' and html 'Training_Filings/0000008947-20-000044.html' is: -0.41\n",
      "The first number after 'Basic earnings per share.*?\\$\\s*(\\d+\\.\\d+)' and html 'Training_Filings/0001564590-20-019431.html' is: 1.08\n",
      "The first number after '\\(Loss\\) earnings per share.*?\\$\\s*(\\d+\\.\\d+)' and html 'Training_Filings/0001564590-20-019396.html' is: -3.15\n"
     ]
    }
   ],
   "source": [
    "for k in range (5):\n",
    "\n",
    "    file = file_path[k]\n",
    "\n",
    "    html_content = read_html_file(file)\n",
    "\n",
    "    soup = BeautifulSoup(html_content)\n",
    "\n",
    "    rows = soup.find_all('table')    \n",
    "    for i in range (len(list_keywords)):\n",
    "        \n",
    "        pattern = list_keywords[i]\n",
    "\n",
    "        for j in range (len(rows)):\n",
    "\n",
    "            text = rows[j]\n",
    "            text = text.get_text(separator='')\n",
    "            text = text.strip()\n",
    "            \n",
    "            match = re.search(pattern, text, re.DOTALL)\n",
    "            if match:\n",
    "                start_index = match.start()\n",
    "                \n",
    "                end_index = start_index + 250\n",
    "                snippet = text[start_index:end_index]\n",
    "\n",
    "                number_pattern = r'\\(?-?\\d{1,3}(?:,\\d{3})*(\\.\\d+)?\\)?'\n",
    "\n",
    "                match = re.search(number_pattern, snippet)\n",
    "                \n",
    "                if match:\n",
    "                    first_number = match.group(0)\n",
    "                    number = convert_to_float(first_number)\n",
    "                    print(f\"The first number after '{pattern}' and html '{file}' is: {number}\")\n",
    "                    \n",
    "                break\n",
    "            \n",
    "        if match:\n",
    "            break"
   ]
  },
  {
   "cell_type": "markdown",
   "metadata": {},
   "source": [
    "My code works for the HTML files that are in the output_examples. Now, I am going to try applying my code to all 50 press articles. I want to make the code as scalable as possible. 2.1 seconds for 5 articles is fast enough for me to apply it to 50 articles"
   ]
  },
  {
   "cell_type": "markdown",
   "metadata": {},
   "source": [
    "### Step II: Scaling the code for Processing 50 Press Articles Efficiently"
   ]
  },
  {
   "cell_type": "code",
   "execution_count": 125,
   "metadata": {},
   "outputs": [],
   "source": [
    "list_keywords_v2 = [r'Net income per share.*?\\$\\s*(\\d+\\.\\d+)',r'Basic and diluted net \\(loss\\) income per share.*?\\$\\s*(\\d+\\.\\d+)',r'Net income per common share.*?\\$\\s*(\\d+\\.\\d+)',r'Basic [Ee]arnings \\([Ll]oss\\) [Pp]er [Ss]hare.*?\\$\\s*(\\d+\\.\\d+)',r'(?i)LOSS PER SHARE - BASIC AND DILUTED.*?\\$\\s*\\(?(-?\\d+\\.\\d+)\\)?',r'(?i)NET EARNINGS PER COMMON SHARE - BASIC.*?\\$\\s*\\(?(-?\\d+\\.\\d+)\\)?',r'Basic net income per share.*?\\$\\s*(\\d+\\.\\d+)'\n",
    "                    ,r'Basic [Ee]arnings [Pp]er [Ss]hare.*?\\$\\s*(\\d+\\.\\d+)',r'Net income \\(loss\\) per common share.*?\\$\\s*(\\d+\\.\\d+)',r'Basic [Ee]arnings [Pp]er [Cc]ommon [Ss]hare.*?\\$\\s*(\\d+\\.\\d+)',r'\\(Loss\\) [Ee]arnings [Pp]er [Ss]hare.*?\\$\\s*(\\d+\\.\\d+)',r'Earnings \\([Ll]oss\\) [Pp]er [Cc]ommon [Ss]hare.*?\\$\\s*(\\d+\\.\\d+)',r'Earnings per share attributable.*?\\$\\s*(\\d+\\.\\d+)'\n",
    "                    ,r'[Gg][Aa][Aa][Pp] [Nn]et income per share\\s*-\\s*[Dd]iluted.*?\\$\\s*(\\d+\\.\\d+)',r'Diluted [Ee]arnings [Pp]er [Ss]hare.*?\\$\\s*(\\d+\\.\\d+)',r'Diluted [Ee][Pp][Ss].*?\\$\\s*(\\d+\\.\\d+)',r'Earnings per ordinary share.*?\\$\\s*(\\d+\\.\\d+)'\n",
    "                    ,r'Diluted [Ee]arnings \\([Ll]oss\\) [Pp]er [Ss]hare.*?\\$\\s*(\\d+\\.\\d+)',r'Diluted [Ee]arnings [Pp]er [Cc]ommon [Ss]hare.*?\\$\\s*(\\d+\\.\\d+)',r'Net [Ee]arnings [Pp]er [Ss]hare\\s*–\\s*[Dd]iluted.*?\\$\\s*(\\d+\\.\\d+)',r'Net income allocated to shareholders per share.*?\\$\\s*\\(?(-?\\d+\\.\\d+)\\)?'\n",
    "                    ,r'Basic and diluted loss per share.*?\\$\\s*\\(?(-?\\d+\\.\\d+)\\)?',r'Net loss attribuable to.*?\\$\\s*(\\d+\\.\\d+)',r'Loss [Pp]er [Cc]ommon [Ss]hare.*?\\(\\s*(-?\\d+\\.\\d+)\\s*\\)',r'Net loss per common share.*?\\(\\s*(-?\\d+\\.\\d+)\\s*\\)',r'Net \\(loss\\) income per diluted common share.*?\\$\\s*(\\d+\\.\\d+)'\n",
    "                    ,r'Basic and diluted net loss per share.*?\\$\\s*\\(?(-?\\d+\\.\\d+)\\)?',r'Net \\(loss\\) income.*?\\$\\s*(\\d+\\.\\d+)',r'Earnings per share.*?\\$\\s*(\\d+\\.\\d+)',r'Net loss per share.*?\\$\\s*\\(?(-?\\d+\\.\\d+)\\)?',r'Net \\(Loss\\) Income.*?\\$\\s*(\\d+\\.\\d+)']"
   ]
  },
  {
   "cell_type": "code",
   "execution_count": 126,
   "metadata": {},
   "outputs": [
    {
     "name": "stdout",
     "output_type": "stream",
     "text": [
      "31\n"
     ]
    }
   ],
   "source": [
    "print(len(list_keywords_v2))"
   ]
  },
  {
   "cell_type": "code",
   "execution_count": 127,
   "metadata": {},
   "outputs": [
    {
     "name": "stdout",
     "output_type": "stream",
     "text": [
      "The first number for html 'Training_Filings/0000004977-20-000054.html' is: 0.78\n",
      "The first number for html 'Training_Filings/0000008947-20-000044.html' is: -0.41\n",
      "The first number for html 'Training_Filings/0000066570-20-000013.html' is: 1.12\n",
      "The first number for html 'Training_Filings/0000314808-20-000062.html' is: -15.19\n",
      "The first number for html 'Training_Filings/0000706129-20-000012.html' is: 0.26\n",
      "The first number for html 'Training_Filings/0000846617-20-000024.html' is: 0.47\n",
      "The first number for html 'Training_Filings/0000874766-20-000033.html' is: 1.0\n",
      "The first number for html 'Training_Filings/0000875320-20-000014.html' is: 2.29\n",
      "The first number for html 'Training_Filings/0000892537-20-000010.html' is: 0.71\n",
      "The first number for html 'Training_Filings/0000895419-20-000042.html' is: -0.57\n",
      "The first number for html 'Training_Filings/0000939057-20-000186.html' is: 0.61\n",
      "The first number for html 'Training_Filings/0000950103-20-008424.html' is: 0.24\n",
      "The first number for html 'Training_Filings/0001008654-20-000048.html' is: -0.16\n",
      "The first number for html 'Training_Filings/0001104659-20-052683.html' is: -0.42\n",
      "The first number for html 'Training_Filings/0001104659-20-052792.html' is: -0.03\n",
      "The first number for html 'Training_Filings/0001104659-20-053353.html' is: 0.65\n",
      "The first number for html 'Training_Filings/0001104659-20-053534.html' is: 0.67\n",
      "The first number for html 'Training_Filings/0001140361-20-010070.html' is: 0.38\n",
      "The first number for html 'Training_Filings/0001141391-20-000089.html' is: 1.68\n",
      "The first number for html 'Training_Filings/0001157523-20-000597.html' is: -1.3\n",
      "The first number for html 'Training_Filings/0001157523-20-000599.html' is: 0.56\n",
      "The first number for html 'Training_Filings/0001157523-20-000600.html' is: 0.11\n",
      "The first number for html 'Training_Filings/0001165002-20-000083.html' is: 0.13\n",
      "The first number for html 'Training_Filings/0001171843-20-003035.html' is: -6.79\n",
      "The first number for html 'Training_Filings/0001193125-20-124288.html' is: 2.01\n",
      "The first number for html 'Training_Filings/0001193125-20-124568.html' is: 0.34\n",
      "The first number for html 'Training_Filings/0001193125-20-126089.html' is: 1.4\n",
      "The first number for html 'Training_Filings/0001193125-20-126683.html' is: 1.52\n",
      "The first number for html 'Training_Filings/0001289945-20-000036.html' is: -0.24\n",
      "The first number for html 'Training_Filings/0001299709-20-000078.html' is: 0.91\n",
      "The first number for html 'Training_Filings/0001323885-20-000027.html' is: -0.42\n",
      "The first number for html 'Training_Filings/0001373715-20-000098.html' is: 1.05\n",
      "The first number for html 'Training_Filings/0001423689-20-000040.html' is: -4.46\n",
      "The first number for html 'Training_Filings/0001436425-20-000011.html' is: 0.21\n",
      "The first number for html 'Training_Filings/0001538263-20-000014.html' is: -1.0\n",
      "The first number for html 'Training_Filings/0001564590-20-019396.html' is: -3.15\n",
      "The first number for html 'Training_Filings/0001564590-20-019421.html' is: -0.24\n",
      "The first number for html 'Training_Filings/0001564590-20-019431.html' is: 1.08\n",
      "The first number for html 'Training_Filings/0001564590-20-019442.html' is: 1.0\n",
      "The first number for html 'Training_Filings/0001564590-20-019726.html' is: 0.08\n",
      "The first number for html 'Training_Filings/0001564590-20-019755.html' is: 2.0\n",
      "The first number for html 'Training_Filings/0001564590-20-019760.html' is: -2.21\n",
      "The first number for html 'Training_Filings/0001576427-20-000032.html' is: 0.3\n",
      "The first number for html 'Training_Filings/0001620459-20-000067.html' is: -1.21\n",
      "The first number for html 'Training_Filings/0001678463-20-000062.html' is: -0.22\n",
      "The first number for html 'Training_Filings/0001691303-20-000019.html' is: 0.42\n",
      "The first number for html 'Training_Filings/0001720635-20-000018.html' is: 0.11\n",
      "The first number for html 'Training_Filings/0001722482-20-000089.html' is: 0.05\n"
     ]
    }
   ],
   "source": [
    "dt = list_filenames('Training_Filings')\n",
    "\n",
    "for k in range (len(dt)):\n",
    "\n",
    "    file = add_training_folder(dt.loc[k,'filename'])\n",
    "\n",
    "    html_content = read_html_file(file)\n",
    "\n",
    "    soup = BeautifulSoup(html_content)\n",
    "\n",
    "    rows = soup.find_all('table')    \n",
    "    for i in range (len(list_keywords_v2)):\n",
    "        \n",
    "        pattern = list_keywords_v2[i]\n",
    "\n",
    "        for j in range (len(rows)):\n",
    "\n",
    "            text = rows[j]\n",
    "            text = text.get_text(separator='')\n",
    "            text = text.strip()\n",
    "            \n",
    "            match = re.search(pattern, text, re.DOTALL)\n",
    "            if match:\n",
    "                start_index = match.start()\n",
    "                \n",
    "                end_index = start_index + 300\n",
    "                snippet = text[start_index:end_index]\n",
    "\n",
    "                number_pattern = r'\\(?-?\\d{1,3}(?:,\\d{3})*(\\.\\d+)?\\)?'\n",
    "\n",
    "                match = re.search(number_pattern, snippet)\n",
    "                \n",
    "                if match:\n",
    "                    first_number = match.group(0)\n",
    "                    number = convert_to_float(first_number)\n",
    "                    dt.loc[k,'EPS'] = number\n",
    "                    print(f\"The first number for html '{file}' is: {number}\")\n",
    "                    \n",
    "                break\n",
    "            \n",
    "        if match:\n",
    "            break\n",
    "\n"
   ]
  },
  {
   "cell_type": "code",
   "execution_count": 128,
   "metadata": {},
   "outputs": [
    {
     "data": {
      "text/plain": [
       "filename    0\n",
       "EPS         2\n",
       "dtype: int64"
      ]
     },
     "execution_count": 128,
     "metadata": {},
     "output_type": "execute_result"
    }
   ],
   "source": [
    "dt.isna().sum()"
   ]
  },
  {
   "cell_type": "code",
   "execution_count": 129,
   "metadata": {},
   "outputs": [],
   "source": [
    "dt.to_csv(\"output_eps_data.csv\")"
   ]
  },
  {
   "cell_type": "markdown",
   "metadata": {},
   "source": [
    "### Step 3: Simplifying and Generalizing Regular Expressions for Financial Data Extraction"
   ]
  },
  {
   "cell_type": "code",
   "execution_count": 135,
   "metadata": {},
   "outputs": [],
   "source": [
    "list_keywords_v3 = [\n",
    "\n",
    "    r'(?i)(?:basic|diluted)?\\s*(?:net\\s*)?(?:income|loss|earnings)\\s*(?:\\(loss\\))?\\s*per\\s*(?:common\\s*)?share.*?\\$\\s*\\(?(-?\\d+\\.\\d+)\\)?',\n",
    "    \n",
    "    r'(?i)basic and diluted\\s*(?:net\\s*)?(?:income|loss) per share.*?\\$\\s*\\(?(-?\\d+\\.\\d+)\\)?',\n",
    "    \n",
    "    r'(?i)(?:diluted)?\\s*[Ee][Pp][Ss].*?\\$\\s*\\(?(-?\\d+\\.\\d+)\\)?',\n",
    "    \n",
    "    r'(?i)(?:earnings|loss)\\s*per\\s*(?:ordinary|common)?\\s*share.*?\\$\\s*\\(?(-?\\d+\\.\\d+)\\)?',\n",
    "    \n",
    "    r'(?i)net (?:income|loss) (?:attributable to shareholders|allocated to).*?\\$\\s*\\(?(-?\\d+\\.\\d+)\\)?'\n",
    "]\n"
   ]
  },
  {
   "cell_type": "code",
   "execution_count": 131,
   "metadata": {},
   "outputs": [
    {
     "data": {
      "text/plain": [
       "13"
      ]
     },
     "execution_count": 131,
     "metadata": {},
     "output_type": "execute_result"
    }
   ],
   "source": [
    "len(list_keywords_v3)"
   ]
  },
  {
   "cell_type": "code",
   "execution_count": 136,
   "metadata": {},
   "outputs": [
    {
     "name": "stdout",
     "output_type": "stream",
     "text": [
      "The first number for html 'Training_Filings/0000004977-20-000054.html' is: 0.78\n",
      "The first number for html 'Training_Filings/0000008947-20-000044.html' is: -0.41\n",
      "The first number for html 'Training_Filings/0000046080-20-000050.html' is: 29.0\n",
      "The first number for html 'Training_Filings/0000066570-20-000013.html' is: 1.12\n",
      "The first number for html 'Training_Filings/0000314808-20-000062.html' is: -15.19\n",
      "The first number for html 'Training_Filings/0000706129-20-000012.html' is: 31.0\n",
      "The first number for html 'Training_Filings/0000846617-20-000024.html' is: 31.0\n",
      "The first number for html 'Training_Filings/0000874766-20-000033.html' is: 1.0\n",
      "The first number for html 'Training_Filings/0000875320-20-000014.html' is: 2.29\n",
      "The first number for html 'Training_Filings/0000892537-20-000010.html' is: 0.71\n",
      "The first number for html 'Training_Filings/0000895419-20-000042.html' is: -0.57\n",
      "The first number for html 'Training_Filings/0000939057-20-000186.html' is: 0.61\n",
      "The first number for html 'Training_Filings/0000950103-20-008424.html' is: 0.24\n",
      "The first number for html 'Training_Filings/0001008654-20-000048.html' is: -0.16\n",
      "The first number for html 'Training_Filings/0001104659-20-052683.html' is: -0.42\n",
      "The first number for html 'Training_Filings/0001104659-20-052792.html' is: -0.03\n",
      "The first number for html 'Training_Filings/0001104659-20-053353.html' is: 0.65\n",
      "The first number for html 'Training_Filings/0001104659-20-053534.html' is: 0.67\n",
      "The first number for html 'Training_Filings/0001104659-20-053563.html' is: 3.17\n",
      "The first number for html 'Training_Filings/0001140361-20-010070.html' is: 0.43\n",
      "The first number for html 'Training_Filings/0001141391-20-000089.html' is: 1.68\n",
      "The first number for html 'Training_Filings/0001157523-20-000597.html' is: -0.03\n",
      "The first number for html 'Training_Filings/0001157523-20-000599.html' is: 0.56\n",
      "The first number for html 'Training_Filings/0001157523-20-000600.html' is: 0.11\n",
      "The first number for html 'Training_Filings/0001165002-20-000083.html' is: 0.13\n",
      "The first number for html 'Training_Filings/0001171843-20-003035.html' is: -6.79\n",
      "The first number for html 'Training_Filings/0001193125-20-124288.html' is: 2.01\n",
      "The first number for html 'Training_Filings/0001193125-20-124568.html' is: 0.34\n",
      "The first number for html 'Training_Filings/0001193125-20-126089.html' is: 1.4\n",
      "The first number for html 'Training_Filings/0001193125-20-126683.html' is: 1.52\n",
      "The first number for html 'Training_Filings/0001289945-20-000036.html' is: -0.24\n",
      "The first number for html 'Training_Filings/0001299709-20-000078.html' is: 0.91\n",
      "The first number for html 'Training_Filings/0001323885-20-000027.html' is: -0.42\n",
      "The first number for html 'Training_Filings/0001373715-20-000098.html' is: 0.25\n",
      "The first number for html 'Training_Filings/0001423689-20-000040.html' is: -4.46\n",
      "The first number for html 'Training_Filings/0001436425-20-000011.html' is: 0.21\n",
      "The first number for html 'Training_Filings/0001538263-20-000014.html' is: -1.0\n",
      "The first number for html 'Training_Filings/0001564590-20-019396.html' is: -3.15\n",
      "The first number for html 'Training_Filings/0001564590-20-019421.html' is: 0.24\n",
      "The first number for html 'Training_Filings/0001564590-20-019431.html' is: 1.08\n",
      "The first number for html 'Training_Filings/0001564590-20-019442.html' is: 1.0\n",
      "The first number for html 'Training_Filings/0001564590-20-019726.html' is: 202.0\n",
      "The first number for html 'Training_Filings/0001564590-20-019755.html' is: 2.0\n",
      "The first number for html 'Training_Filings/0001564590-20-019760.html' is: -2.21\n",
      "The first number for html 'Training_Filings/0001576427-20-000032.html' is: 0.62\n",
      "The first number for html 'Training_Filings/0001620459-20-000067.html' is: -1.21\n",
      "The first number for html 'Training_Filings/0001678463-20-000062.html' is: -0.22\n",
      "The first number for html 'Training_Filings/0001691303-20-000019.html' is: 0.42\n",
      "The first number for html 'Training_Filings/0001720635-20-000018.html' is: 0.11\n",
      "The first number for html 'Training_Filings/0001722482-20-000089.html' is: 0.05\n"
     ]
    }
   ],
   "source": [
    "dt = list_filenames('Training_Filings')\n",
    "\n",
    "for k in range (len(dt)):\n",
    "\n",
    "    file = add_training_folder(dt.loc[k,'filename'])\n",
    "\n",
    "    html_content = read_html_file(file)\n",
    "\n",
    "    soup = BeautifulSoup(html_content)\n",
    "\n",
    "    rows = soup.find_all('table')    \n",
    "    for i in range (len(list_keywords_v3)):\n",
    "        \n",
    "        pattern = list_keywords_v3[i]\n",
    "\n",
    "        for j in range (len(rows)):\n",
    "\n",
    "            text = rows[j]\n",
    "            text = text.get_text(separator='')\n",
    "            text = text.strip()\n",
    "            \n",
    "            match = re.search(pattern, text, re.DOTALL)\n",
    "            if match:\n",
    "                start_index = match.start()\n",
    "                \n",
    "                end_index = start_index + 300\n",
    "                snippet = text[start_index:end_index]\n",
    "\n",
    "                number_pattern = r'\\(?-?\\d{1,3}(?:,\\d{3})*(\\.\\d+)?\\)?'\n",
    "\n",
    "                match = re.search(number_pattern, snippet)\n",
    "                \n",
    "                if match:\n",
    "                    first_number = match.group(0)\n",
    "                    number = convert_to_float(first_number)\n",
    "                    dt.loc[k,'EPS'] = number\n",
    "                    print(f\"The first number for html '{file}' is: {number}\")\n",
    "                    \n",
    "                break\n",
    "            \n",
    "        if match:\n",
    "            break\n",
    "\n"
   ]
  },
  {
   "cell_type": "code",
   "execution_count": 137,
   "metadata": {},
   "outputs": [
    {
     "name": "stdout",
     "output_type": "stream",
     "text": [
      "filename    0\n",
      "EPS         0\n",
      "dtype: int64\n"
     ]
    }
   ],
   "source": [
    "print(dt.isna().sum())"
   ]
  },
  {
   "cell_type": "code",
   "execution_count": 138,
   "metadata": {},
   "outputs": [],
   "source": [
    "dt.to_csv(\"output_eps_data_v3.csv\")"
   ]
  }
 ],
 "metadata": {
  "kernelspec": {
   "display_name": "Python 3",
   "language": "python",
   "name": "python3"
  },
  "language_info": {
   "codemirror_mode": {
    "name": "ipython",
    "version": 3
   },
   "file_extension": ".py",
   "mimetype": "text/x-python",
   "name": "python",
   "nbconvert_exporter": "python",
   "pygments_lexer": "ipython3",
   "version": "3.11.9"
  }
 },
 "nbformat": 4,
 "nbformat_minor": 2
}
